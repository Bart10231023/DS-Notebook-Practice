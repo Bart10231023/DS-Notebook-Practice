{
 "cells": [
  {
   "cell_type": "markdown",
   "metadata": {},
   "source": [
    "#### Add your code below following the instructions given in the course\n"
   ]
  },
  {
   "cell_type": "markdown",
   "metadata": {},
   "source": [
    "# Data Science Tools and Ecosystem"
   ]
  },
  {
   "cell_type": "markdown",
   "metadata": {},
   "source": [
    "本 notebook 探索了数据科学核心工具链，涵盖 Python 生态、可视化技术及机器学习模型部署流程。"
   ]
  },
  {
   "cell_type": "markdown",
   "metadata": {},
   "source": [
    "一些数据科学家使用的流行语言包括：\n",
    "1. Python\n",
    "2. R\n",
    "3. SQL\n",
    "4. Julia"
   ]
  },
  {
   "cell_type": "markdown",
   "metadata": {},
   "source": [
    "一些数据科学家常用的库包括：\n",
    "1. ​**NumPy**​ - 科学计算基础库，支持多维数组操作\n",
    "2. ​**Pandas**​ - 数据清洗与分析的核心工具\n",
    "3. ​**Matplotlib**​ - 基础可视化库，支持静态/交互式图表\n",
    "4. ​**Scikit-learn**​ - 机器学习算法实现与模型评估"
   ]
  },
  {
   "cell_type": "markdown",
   "metadata": {},
   "source": [
    "| Data Science Tools       |\n",
    "|--------------------------|\n",
    "| Jupyter Notebook         |\n",
    "| RStudio                  |\n",
    "| VS Code (Python扩展)     |"
   ]
  },
  {
   "cell_type": "markdown",
   "metadata": {},
   "source": [
    "### 以下是一些在 Python 中评估算术表达式的示例"
   ]
  },
  {
   "cell_type": "markdown",
   "metadata": {},
   "source": [
    "- ​**加法**​：`2 + 3` → 结果为 `5`\n",
    "- ​**乘法与取余**​：`5 * 4 % 3` → 结果为 `2`\n",
    "- ​**幂运算**​：`2 ​**​ 3` → 结果为 `8`\n",
    "- ​**整除与浮点除**​：`10 / 2` → `5.0`，`9 // 4` → `2"
   ]
  },
  {
   "cell_type": "code",
   "execution_count": 3,
   "metadata": {},
   "outputs": [
    {
     "data": {
      "text/plain": [
       "17"
      ]
     },
     "execution_count": 3,
     "metadata": {},
     "output_type": "execute_result"
    }
   ],
   "source": [
    "# 这是一个简单的算术表达式，用于先乘后加整数\n",
    "(3 * 4) + 5"
   ]
  },
  {
   "cell_type": "code",
   "execution_count": 4,
   "metadata": {},
   "outputs": [
    {
     "name": "stdout",
     "output_type": "stream",
     "text": [
      "3小时20分钟\n"
     ]
    }
   ],
   "source": [
    "# 将200分钟转换为小时和剩余分钟\n",
    "total_minutes = 200\n",
    "hours = total_minutes // 60  # 整数除法取小时部分\n",
    "remaining_minutes = total_minutes % 60  # 取余得剩余分钟\n",
    "print(f\"{hours}小时{remaining_minutes}分钟\")  # 输出格式化结果"
   ]
  },
  {
   "cell_type": "markdown",
   "metadata": {},
   "source": [
    "**目标：​**​  \n",
    "- 掌握 Jupyter Notebook 的 Markdown 语法与代码单元格操作  \n",
    "- 理解数据科学核心库（如 NumPy、Pandas）的基础应用  \n",
    "- 熟悉算术运算符优先级与表达式求值规则  \n",
    "- 学会通过注释与文档提升代码可读性  \n",
    "- 完成数据分析项目的完整流程实践"
   ]
  },
  {
   "cell_type": "markdown",
   "metadata": {},
   "source": [
    "## 作者  \n",
    "[Bart Liu]"
   ]
  },
  {
   "cell_type": "code",
   "execution_count": null,
   "metadata": {},
   "outputs": [],
   "source": []
  }
 ],
 "metadata": {
  "kernelspec": {
   "display_name": "Python 3 (ipykernel)",
   "language": "python",
   "name": "python3"
  },
  "language_info": {
   "codemirror_mode": {
    "name": "ipython",
    "version": 3
   },
   "file_extension": ".py",
   "mimetype": "text/x-python",
   "name": "python",
   "nbconvert_exporter": "python",
   "pygments_lexer": "ipython3",
   "version": "3.12.8"
  }
 },
 "nbformat": 4,
 "nbformat_minor": 4
}
